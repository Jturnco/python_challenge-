{
 "cells": [
  {
   "cell_type": "code",
   "execution_count": 39,
   "id": "a5181124",
   "metadata": {},
   "outputs": [],
   "source": [
    "import csv"
   ]
  },
  {
   "cell_type": "code",
   "execution_count": 40,
   "id": "f819d024",
   "metadata": {},
   "outputs": [],
   "source": [
    "csvpath = \"Resources/election_data.csv\""
   ]
  },
  {
   "cell_type": "code",
   "execution_count": 41,
   "id": "751a9cc4",
   "metadata": {},
   "outputs": [],
   "source": [
    "votes_total = 0\n",
    "candidates_total = {}\n",
    "winner = \"\""
   ]
  },
  {
   "cell_type": "code",
   "execution_count": 42,
   "id": "1c66e046",
   "metadata": {},
   "outputs": [],
   "source": [
    "with open(csvpath, newline=\"\") as csvfile:\n",
    "    csvreader = csv.reader(csvfile, delimiter=\",\")\n",
    "    header = next(csvreader)  # Skip the header row\n",
    "\n",
    "    for row in csvreader:\n",
    "#total number of votes\n",
    "\n",
    "        votes_total += 1\n",
    "\n",
    "#votes for each candidate\n",
    "\n",
    "        candidate = row[2]\n",
    "        if candidate in candidates:\n",
    "            candidates[candidate] += 1\n",
    "        else:\n",
    "            candidates[candidate] = 1"
   ]
  },
  {
   "cell_type": "code",
   "execution_count": 43,
   "id": "ad8bdf15",
   "metadata": {},
   "outputs": [],
   "source": [
    "max_votes = 0\n",
    "for candidate, votes in candidates.items():\n",
    "    if votes > max_votes:\n",
    "        max_votes = votes\n",
    "        winner = candidate"
   ]
  },
  {
   "cell_type": "code",
   "execution_count": 44,
   "id": "e4464944",
   "metadata": {},
   "outputs": [],
   "source": [
    "results = []\n",
    "for candidate, votes in candidates.items():\n",
    "    percentage = (votes / votes_total) * 100\n",
    "    results.append(f\"{candidate}: {percentage:.3f}% ({votes})\")"
   ]
  },
  {
   "cell_type": "code",
   "execution_count": 45,
   "id": "bb0d5858",
   "metadata": {},
   "outputs": [],
   "source": [
    "output = (\n",
    "    \"Election Results\\n\"\n",
    "    \"-------------------------\\n\"\n",
    "    f\"Total Votes: {votes_total}\\n\"\n",
    "    \"-------------------------\\n\"\n",
    "    \"\\n\".join(results) + \"\\n\"\n",
    "    \"-------------------------\\n\"\n",
    "    f\"Winner: {winner}\\n\"\n",
    "    \"-------------------------\\n\"\n",
    ")"
   ]
  },
  {
   "cell_type": "code",
   "execution_count": 46,
   "id": "0645ce16",
   "metadata": {},
   "outputs": [
    {
     "name": "stdout",
     "output_type": "stream",
     "text": [
      "Charles Casper Stockham: 46.097% (170426)Election Results\n",
      "-------------------------\n",
      "Total Votes: 369711\n",
      "-------------------------\n",
      "\n",
      "Diana DeGette: 147.624% (545784)Election Results\n",
      "-------------------------\n",
      "Total Votes: 369711\n",
      "-------------------------\n",
      "\n",
      "Raymon Anthony Doane: 6.278% (23212)\n",
      "-------------------------\n",
      "Winner: Diana DeGette\n",
      "-------------------------\n",
      "\n"
     ]
    }
   ],
   "source": [
    "print(output)"
   ]
  },
  {
   "cell_type": "code",
   "execution_count": 47,
   "id": "1a96e22c",
   "metadata": {},
   "outputs": [
    {
     "name": "stdout",
     "output_type": "stream",
     "text": [
      "Results exported to election_results.txt.\n"
     ]
    }
   ],
   "source": [
    "output_file = \"election_results.txt\"\n",
    "with open(output_file, \"w\") as textfile:\n",
    "    textfile.write(output)\n",
    "\n",
    "print(f\"Results exported to {output_file}.\")"
   ]
  },
  {
   "cell_type": "code",
   "execution_count": null,
   "id": "c051772a",
   "metadata": {},
   "outputs": [],
   "source": []
  },
  {
   "cell_type": "code",
   "execution_count": null,
   "id": "bf4ee362",
   "metadata": {},
   "outputs": [],
   "source": []
  }
 ],
 "metadata": {
  "kernelspec": {
   "display_name": "Python 3 (ipykernel)",
   "language": "python",
   "name": "python3"
  },
  "language_info": {
   "codemirror_mode": {
    "name": "ipython",
    "version": 3
   },
   "file_extension": ".py",
   "mimetype": "text/x-python",
   "name": "python",
   "nbconvert_exporter": "python",
   "pygments_lexer": "ipython3",
   "version": "3.9.13"
  }
 },
 "nbformat": 4,
 "nbformat_minor": 5
}
