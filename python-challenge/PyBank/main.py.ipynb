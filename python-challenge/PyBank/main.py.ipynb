{
 "cells": [
  {
   "cell_type": "code",
   "execution_count": 42,
   "id": "644e2bc2",
   "metadata": {},
   "outputs": [],
   "source": [
    "import csv"
   ]
  },
  {
   "cell_type": "code",
   "execution_count": 43,
   "id": "97d4b004",
   "metadata": {},
   "outputs": [],
   "source": [
    "csvpath = \"Resources/budget_data.csv\""
   ]
  },
  {
   "cell_type": "code",
   "execution_count": 44,
   "id": "af068dcf",
   "metadata": {},
   "outputs": [],
   "source": [
    "months_total = 0\n",
    "net_profit = 0\n",
    "prior_profit = 0\n",
    "profit_changes = []\n",
    "greatest_increase = [\"\", 0]\n",
    "greatest_decrease = [\"\", 0]"
   ]
  },
  {
   "cell_type": "code",
   "execution_count": 46,
   "id": "d6cc162d",
   "metadata": {},
   "outputs": [],
   "source": [
    "with open(csvpath, newline=\"\") as csvfile:\n",
    "    csvreader = csv.reader(csvfile, delimiter=\",\")\n",
    "    header = next(csvreader)  # Skip the header row\n",
    "\n",
    "    for row in csvreader:\n",
    "\n",
    "# Calculate total months\n",
    "       \n",
    "        months_total += 1\n",
    "\n",
    "# Calculate net total\n",
    "       \n",
    "    net_profit += int(row[1])\n",
    "\n",
    "# Calculate profit change\n",
    "       \n",
    "    profit_change = int(row[1]) - prev_profit\n",
    "    prior_profit = int(row[1])\n",
    "    profit_changes.append(profit_change)"
   ]
  },
  {
   "cell_type": "code",
   "execution_count": 47,
   "id": "3ce71e39",
   "metadata": {},
   "outputs": [],
   "source": [
    "if profit_change > greatest_increase[1]:\n",
    "            greatest_increase[0] = row[0]\n",
    "            greatest_increase[1] = profit_change\n",
    "if profit_change < greatest_decrease[1]:\n",
    "            greatest_decrease[0] = row[0]\n",
    "            greatest_decrease[1] = profit_change"
   ]
  },
  {
   "cell_type": "code",
   "execution_count": 48,
   "id": "5aac1acf",
   "metadata": {},
   "outputs": [],
   "source": [
    "average_change = sum(profit_changes) / len(profit_changes)"
   ]
  },
  {
   "cell_type": "code",
   "execution_count": 49,
   "id": "11a4d826",
   "metadata": {},
   "outputs": [],
   "source": [
    "results = ( \n",
    "    f\"Financial Analysis\\n\"\n",
    "    f\"----------------------------\\n\"\n",
    "    f\"Total Months: {total_months}\\n\"\n",
    "    f\"Total: ${net_total}\\n\"\n",
    "    f\"Average Change: ${average_change:.2f}\\n\"\n",
    "    f\"Greatest Increase in Profits: {greatest_increase[0]} (${greatest_increase[1]})\\n\"\n",
    "    f\"Greatest Decrease in Profits: {greatest_decrease[0]} (${greatest_decrease[1]})\\n\")"
   ]
  },
  {
   "cell_type": "code",
   "execution_count": 50,
   "id": "e86d6a25",
   "metadata": {},
   "outputs": [
    {
     "name": "stdout",
     "output_type": "stream",
     "text": [
      "Financial Analysis\n",
      "----------------------------\n",
      "Total Months: 86\n",
      "Total: $22564198\n",
      "Average Change: $0.00\n",
      "Greatest Increase in Profits:  ($0)\n",
      "Greatest Decrease in Profits:  ($0)\n",
      "\n"
     ]
    }
   ],
   "source": [
    "print(results)"
   ]
  },
  {
   "cell_type": "code",
   "execution_count": 51,
   "id": "f4facbcc",
   "metadata": {},
   "outputs": [
    {
     "name": "stdout",
     "output_type": "stream",
     "text": [
      "Results exported to financial_analysis.txt.\n"
     ]
    }
   ],
   "source": [
    "output_file = \"financial_analysis.txt\"\n",
    "with open(output_file, \"w\") as textfile:\n",
    "    textfile.write(results)\n",
    "\n",
    "print(f\"Results exported to {output_file}.\")"
   ]
  },
  {
   "cell_type": "code",
   "execution_count": null,
   "id": "a02d4e67",
   "metadata": {},
   "outputs": [],
   "source": []
  }
 ],
 "metadata": {
  "kernelspec": {
   "display_name": "Python 3 (ipykernel)",
   "language": "python",
   "name": "python3"
  },
  "language_info": {
   "codemirror_mode": {
    "name": "ipython",
    "version": 3
   },
   "file_extension": ".py",
   "mimetype": "text/x-python",
   "name": "python",
   "nbconvert_exporter": "python",
   "pygments_lexer": "ipython3",
   "version": "3.9.13"
  }
 },
 "nbformat": 4,
 "nbformat_minor": 5
}
